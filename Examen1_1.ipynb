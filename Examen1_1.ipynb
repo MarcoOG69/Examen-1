{
  "nbformat": 4,
  "nbformat_minor": 0,
  "metadata": {
    "colab": {
      "provenance": [],
      "authorship_tag": "ABX9TyMR7NFWYJRaqfbP8LlFhva1",
      "include_colab_link": true
    },
    "kernelspec": {
      "name": "python3",
      "display_name": "Python 3"
    },
    "language_info": {
      "name": "python"
    }
  },
  "cells": [
    {
      "cell_type": "markdown",
      "metadata": {
        "id": "view-in-github",
        "colab_type": "text"
      },
      "source": [
        "<a href=\"https://colab.research.google.com/github/MarcoOG69/Examen-1/blob/main/Examen1_1.ipynb\" target=\"_parent\"><img src=\"https://colab.research.google.com/assets/colab-badge.svg\" alt=\"Open In Colab\"/></a>"
      ]
    },
    {
      "cell_type": "code",
      "execution_count": 1,
      "metadata": {
        "id": "4etmFS064yV-"
      },
      "outputs": [],
      "source": [
        "#importat librerias\n",
        "import pandas as pd\n",
        "import numpy as np\n",
        "import matplotlib.pyplot as plt"
      ]
    },
    {
      "cell_type": "code",
      "source": [
        "#cargar archivo\n",
        "from google.colab import files \n",
        "files.upload()"
      ],
      "metadata": {
        "id": "n-qUOsGf5lZW"
      },
      "execution_count": null,
      "outputs": []
    },
    {
      "cell_type": "code",
      "source": [
        "#convertir en dataframe\n",
        "df=pd.read_excel(\"consumer_mit_lift_lab.xlsx\")\n",
        "df.head(5)"
      ],
      "metadata": {
        "colab": {
          "base_uri": "https://localhost:8080/",
          "height": 473
        },
        "id": "EP9-tb4x6HZ3",
        "outputId": "80b98799-1ae9-4126-d7fc-5a11a0022fde"
      },
      "execution_count": 4,
      "outputs": [
        {
          "output_type": "execute_result",
          "data": {
            "text/plain": [
              "                             _record_id             _title  \\\n",
              "0  060a856c-e3b8-41a7-b680-9756172d1c29  November 12, 2022   \n",
              "1  c42fdf22-b93b-443e-8f46-6043613cb0c3  November 12, 2022   \n",
              "2  3ccaedc0-949e-4555-afad-b2e1d77c3219  November 12, 2022   \n",
              "3  91d8a240-af2c-451b-900f-3480f82e05db  November 12, 2022   \n",
              "4  3efefc56-bd45-4e4a-bf02-ab725e9fb41a  November 12, 2022   \n",
              "\n",
              "        _server_updated_at                   _updated_by  \\\n",
              "0  2022-11-12 22:43:08 UTC         Ulises Núñez Bautista   \n",
              "1  2022-11-12 22:15:02 UTC          Salomon Abdala Perez   \n",
              "2  2022-11-12 22:15:02 UTC          Salomon Abdala Perez   \n",
              "3  2022-11-12 20:41:38 UTC  Jorge Alberto Ostorga Flores   \n",
              "4  2022-11-12 19:49:13 UTC  Jorge Alberto Ostorga Flores   \n",
              "\n",
              "                                       _geometry  _latitude  _longitude  \\\n",
              "0  SRID=4326;POINT(-98.2349802856 19.0598413203)  19.059841  -98.234980   \n",
              "1    SRID=4326;POINT(-98.2335660729 19.05847939)  19.058479  -98.233566   \n",
              "2  SRID=4326;POINT(-98.2303385023 19.0620767997)  19.062077  -98.230339   \n",
              "3  SRID=4326;POINT(-98.2329163449 19.0555346049)  19.055535  -98.232916   \n",
              "4  SRID=4326;POINT(-98.2329944224 19.0590117522)  19.059012  -98.232994   \n",
              "\n",
              "  282_payment_method_that_purchase 283_fulfill_needs 300_did_not_find  ...  \\\n",
              "0                         Efectivo                no     agua de coco  ...   \n",
              "1                         Efectivo               yes              NaN  ...   \n",
              "2                         Efectivo               yes              NaN  ...   \n",
              "3    Tarjeta de débito y/o crédito               yes              NaN  ...   \n",
              "4                         Efectivo               yes              NaN  ...   \n",
              "\n",
              "  81_number_online_purchases_month 288_number_app_purchases_month  \\\n",
              "0                                1                              0   \n",
              "1                                1                              2   \n",
              "2                                0                              0   \n",
              "3                                2                              3   \n",
              "4                                2                              5   \n",
              "\n",
              "   289_number_whatsapp_purchases_month 83_willingness_ultrafast_delivery  \\\n",
              "0                                    0                                 0   \n",
              "1                                    0                                35   \n",
              "2                                    0                                40   \n",
              "3                                    0                                 0   \n",
              "4                                    0                                 0   \n",
              "\n",
              "  84_willingness_sameday_delivery 241_age_of_the_interviewee  \\\n",
              "0                               0                         35   \n",
              "1                              50                         27   \n",
              "2                              25                         42   \n",
              "3                               0                         27   \n",
              "4                              50                         35   \n",
              "\n",
              "  240_gender_interviewee       indicate_the_type_of_store  \\\n",
              "0                   Male                        Cafeteria   \n",
              "1                 Female   Grocery store (aka. nanostore)   \n",
              "2                 Female  Micro-restaurant (aka. fondita)   \n",
              "3                 Female                        Cafeteria   \n",
              "4                 Female                        Cafeteria   \n",
              "\n",
              "     name_of_the_store storefront_picture_just_once_if_possible  \n",
              "0  Paleteria El Carmen                                      NaN  \n",
              "1        Gerardo Saénz                                      NaN  \n",
              "2                 Rozt                                  1 Photo  \n",
              "3         Café Colibrí                                  1 Photo  \n",
              "4              La fête                                  1 Photo  \n",
              "\n",
              "[5 rows x 36 columns]"
            ],
            "text/html": [
              "\n",
              "  <div id=\"df-3fd449ea-2a01-494c-8ff9-a22e1f809157\">\n",
              "    <div class=\"colab-df-container\">\n",
              "      <div>\n",
              "<style scoped>\n",
              "    .dataframe tbody tr th:only-of-type {\n",
              "        vertical-align: middle;\n",
              "    }\n",
              "\n",
              "    .dataframe tbody tr th {\n",
              "        vertical-align: top;\n",
              "    }\n",
              "\n",
              "    .dataframe thead th {\n",
              "        text-align: right;\n",
              "    }\n",
              "</style>\n",
              "<table border=\"1\" class=\"dataframe\">\n",
              "  <thead>\n",
              "    <tr style=\"text-align: right;\">\n",
              "      <th></th>\n",
              "      <th>_record_id</th>\n",
              "      <th>_title</th>\n",
              "      <th>_server_updated_at</th>\n",
              "      <th>_updated_by</th>\n",
              "      <th>_geometry</th>\n",
              "      <th>_latitude</th>\n",
              "      <th>_longitude</th>\n",
              "      <th>282_payment_method_that_purchase</th>\n",
              "      <th>283_fulfill_needs</th>\n",
              "      <th>300_did_not_find</th>\n",
              "      <th>...</th>\n",
              "      <th>81_number_online_purchases_month</th>\n",
              "      <th>288_number_app_purchases_month</th>\n",
              "      <th>289_number_whatsapp_purchases_month</th>\n",
              "      <th>83_willingness_ultrafast_delivery</th>\n",
              "      <th>84_willingness_sameday_delivery</th>\n",
              "      <th>241_age_of_the_interviewee</th>\n",
              "      <th>240_gender_interviewee</th>\n",
              "      <th>indicate_the_type_of_store</th>\n",
              "      <th>name_of_the_store</th>\n",
              "      <th>storefront_picture_just_once_if_possible</th>\n",
              "    </tr>\n",
              "  </thead>\n",
              "  <tbody>\n",
              "    <tr>\n",
              "      <th>0</th>\n",
              "      <td>060a856c-e3b8-41a7-b680-9756172d1c29</td>\n",
              "      <td>November 12, 2022</td>\n",
              "      <td>2022-11-12 22:43:08 UTC</td>\n",
              "      <td>Ulises Núñez Bautista</td>\n",
              "      <td>SRID=4326;POINT(-98.2349802856 19.0598413203)</td>\n",
              "      <td>19.059841</td>\n",
              "      <td>-98.234980</td>\n",
              "      <td>Efectivo</td>\n",
              "      <td>no</td>\n",
              "      <td>agua de coco</td>\n",
              "      <td>...</td>\n",
              "      <td>1</td>\n",
              "      <td>0</td>\n",
              "      <td>0</td>\n",
              "      <td>0</td>\n",
              "      <td>0</td>\n",
              "      <td>35</td>\n",
              "      <td>Male</td>\n",
              "      <td>Cafeteria</td>\n",
              "      <td>Paleteria El Carmen</td>\n",
              "      <td>NaN</td>\n",
              "    </tr>\n",
              "    <tr>\n",
              "      <th>1</th>\n",
              "      <td>c42fdf22-b93b-443e-8f46-6043613cb0c3</td>\n",
              "      <td>November 12, 2022</td>\n",
              "      <td>2022-11-12 22:15:02 UTC</td>\n",
              "      <td>Salomon Abdala Perez</td>\n",
              "      <td>SRID=4326;POINT(-98.2335660729 19.05847939)</td>\n",
              "      <td>19.058479</td>\n",
              "      <td>-98.233566</td>\n",
              "      <td>Efectivo</td>\n",
              "      <td>yes</td>\n",
              "      <td>NaN</td>\n",
              "      <td>...</td>\n",
              "      <td>1</td>\n",
              "      <td>2</td>\n",
              "      <td>0</td>\n",
              "      <td>35</td>\n",
              "      <td>50</td>\n",
              "      <td>27</td>\n",
              "      <td>Female</td>\n",
              "      <td>Grocery store (aka. nanostore)</td>\n",
              "      <td>Gerardo Saénz</td>\n",
              "      <td>NaN</td>\n",
              "    </tr>\n",
              "    <tr>\n",
              "      <th>2</th>\n",
              "      <td>3ccaedc0-949e-4555-afad-b2e1d77c3219</td>\n",
              "      <td>November 12, 2022</td>\n",
              "      <td>2022-11-12 22:15:02 UTC</td>\n",
              "      <td>Salomon Abdala Perez</td>\n",
              "      <td>SRID=4326;POINT(-98.2303385023 19.0620767997)</td>\n",
              "      <td>19.062077</td>\n",
              "      <td>-98.230339</td>\n",
              "      <td>Efectivo</td>\n",
              "      <td>yes</td>\n",
              "      <td>NaN</td>\n",
              "      <td>...</td>\n",
              "      <td>0</td>\n",
              "      <td>0</td>\n",
              "      <td>0</td>\n",
              "      <td>40</td>\n",
              "      <td>25</td>\n",
              "      <td>42</td>\n",
              "      <td>Female</td>\n",
              "      <td>Micro-restaurant (aka. fondita)</td>\n",
              "      <td>Rozt</td>\n",
              "      <td>1 Photo</td>\n",
              "    </tr>\n",
              "    <tr>\n",
              "      <th>3</th>\n",
              "      <td>91d8a240-af2c-451b-900f-3480f82e05db</td>\n",
              "      <td>November 12, 2022</td>\n",
              "      <td>2022-11-12 20:41:38 UTC</td>\n",
              "      <td>Jorge Alberto Ostorga Flores</td>\n",
              "      <td>SRID=4326;POINT(-98.2329163449 19.0555346049)</td>\n",
              "      <td>19.055535</td>\n",
              "      <td>-98.232916</td>\n",
              "      <td>Tarjeta de débito y/o crédito</td>\n",
              "      <td>yes</td>\n",
              "      <td>NaN</td>\n",
              "      <td>...</td>\n",
              "      <td>2</td>\n",
              "      <td>3</td>\n",
              "      <td>0</td>\n",
              "      <td>0</td>\n",
              "      <td>0</td>\n",
              "      <td>27</td>\n",
              "      <td>Female</td>\n",
              "      <td>Cafeteria</td>\n",
              "      <td>Café Colibrí</td>\n",
              "      <td>1 Photo</td>\n",
              "    </tr>\n",
              "    <tr>\n",
              "      <th>4</th>\n",
              "      <td>3efefc56-bd45-4e4a-bf02-ab725e9fb41a</td>\n",
              "      <td>November 12, 2022</td>\n",
              "      <td>2022-11-12 19:49:13 UTC</td>\n",
              "      <td>Jorge Alberto Ostorga Flores</td>\n",
              "      <td>SRID=4326;POINT(-98.2329944224 19.0590117522)</td>\n",
              "      <td>19.059012</td>\n",
              "      <td>-98.232994</td>\n",
              "      <td>Efectivo</td>\n",
              "      <td>yes</td>\n",
              "      <td>NaN</td>\n",
              "      <td>...</td>\n",
              "      <td>2</td>\n",
              "      <td>5</td>\n",
              "      <td>0</td>\n",
              "      <td>0</td>\n",
              "      <td>50</td>\n",
              "      <td>35</td>\n",
              "      <td>Female</td>\n",
              "      <td>Cafeteria</td>\n",
              "      <td>La fête</td>\n",
              "      <td>1 Photo</td>\n",
              "    </tr>\n",
              "  </tbody>\n",
              "</table>\n",
              "<p>5 rows × 36 columns</p>\n",
              "</div>\n",
              "      <button class=\"colab-df-convert\" onclick=\"convertToInteractive('df-3fd449ea-2a01-494c-8ff9-a22e1f809157')\"\n",
              "              title=\"Convert this dataframe to an interactive table.\"\n",
              "              style=\"display:none;\">\n",
              "        \n",
              "  <svg xmlns=\"http://www.w3.org/2000/svg\" height=\"24px\"viewBox=\"0 0 24 24\"\n",
              "       width=\"24px\">\n",
              "    <path d=\"M0 0h24v24H0V0z\" fill=\"none\"/>\n",
              "    <path d=\"M18.56 5.44l.94 2.06.94-2.06 2.06-.94-2.06-.94-.94-2.06-.94 2.06-2.06.94zm-11 1L8.5 8.5l.94-2.06 2.06-.94-2.06-.94L8.5 2.5l-.94 2.06-2.06.94zm10 10l.94 2.06.94-2.06 2.06-.94-2.06-.94-.94-2.06-.94 2.06-2.06.94z\"/><path d=\"M17.41 7.96l-1.37-1.37c-.4-.4-.92-.59-1.43-.59-.52 0-1.04.2-1.43.59L10.3 9.45l-7.72 7.72c-.78.78-.78 2.05 0 2.83L4 21.41c.39.39.9.59 1.41.59.51 0 1.02-.2 1.41-.59l7.78-7.78 2.81-2.81c.8-.78.8-2.07 0-2.86zM5.41 20L4 18.59l7.72-7.72 1.47 1.35L5.41 20z\"/>\n",
              "  </svg>\n",
              "      </button>\n",
              "      \n",
              "  <style>\n",
              "    .colab-df-container {\n",
              "      display:flex;\n",
              "      flex-wrap:wrap;\n",
              "      gap: 12px;\n",
              "    }\n",
              "\n",
              "    .colab-df-convert {\n",
              "      background-color: #E8F0FE;\n",
              "      border: none;\n",
              "      border-radius: 50%;\n",
              "      cursor: pointer;\n",
              "      display: none;\n",
              "      fill: #1967D2;\n",
              "      height: 32px;\n",
              "      padding: 0 0 0 0;\n",
              "      width: 32px;\n",
              "    }\n",
              "\n",
              "    .colab-df-convert:hover {\n",
              "      background-color: #E2EBFA;\n",
              "      box-shadow: 0px 1px 2px rgba(60, 64, 67, 0.3), 0px 1px 3px 1px rgba(60, 64, 67, 0.15);\n",
              "      fill: #174EA6;\n",
              "    }\n",
              "\n",
              "    [theme=dark] .colab-df-convert {\n",
              "      background-color: #3B4455;\n",
              "      fill: #D2E3FC;\n",
              "    }\n",
              "\n",
              "    [theme=dark] .colab-df-convert:hover {\n",
              "      background-color: #434B5C;\n",
              "      box-shadow: 0px 1px 3px 1px rgba(0, 0, 0, 0.15);\n",
              "      filter: drop-shadow(0px 1px 2px rgba(0, 0, 0, 0.3));\n",
              "      fill: #FFFFFF;\n",
              "    }\n",
              "  </style>\n",
              "\n",
              "      <script>\n",
              "        const buttonEl =\n",
              "          document.querySelector('#df-3fd449ea-2a01-494c-8ff9-a22e1f809157 button.colab-df-convert');\n",
              "        buttonEl.style.display =\n",
              "          google.colab.kernel.accessAllowed ? 'block' : 'none';\n",
              "\n",
              "        async function convertToInteractive(key) {\n",
              "          const element = document.querySelector('#df-3fd449ea-2a01-494c-8ff9-a22e1f809157');\n",
              "          const dataTable =\n",
              "            await google.colab.kernel.invokeFunction('convertToInteractive',\n",
              "                                                     [key], {});\n",
              "          if (!dataTable) return;\n",
              "\n",
              "          const docLinkHtml = 'Like what you see? Visit the ' +\n",
              "            '<a target=\"_blank\" href=https://colab.research.google.com/notebooks/data_table.ipynb>data table notebook</a>'\n",
              "            + ' to learn more about interactive tables.';\n",
              "          element.innerHTML = '';\n",
              "          dataTable['output_type'] = 'display_data';\n",
              "          await google.colab.output.renderOutput(dataTable, element);\n",
              "          const docLink = document.createElement('div');\n",
              "          docLink.innerHTML = docLinkHtml;\n",
              "          element.appendChild(docLink);\n",
              "        }\n",
              "      </script>\n",
              "    </div>\n",
              "  </div>\n",
              "  "
            ]
          },
          "metadata": {},
          "execution_count": 4
        }
      ]
    },
    {
      "cell_type": "code",
      "source": [
        "#Identificar valores nulos\n",
        "valores_nulos=df.isnull().sum()\n",
        "valores_nulos"
      ],
      "metadata": {
        "id": "VXf4100J6a6-"
      },
      "execution_count": null,
      "outputs": []
    },
    {
      "cell_type": "code",
      "source": [
        "#sustitur con un string concreto\n",
        "df[\"300_did_not_find\"]=df[\"300_did_not_find\"].fillna(\"Nada\")"
      ],
      "metadata": {
        "id": "DyC2_BjW7D3y"
      },
      "execution_count": 15,
      "outputs": []
    },
    {
      "cell_type": "code",
      "source": [
        "df.info()\n"
      ],
      "metadata": {
        "colab": {
          "base_uri": "https://localhost:8080/"
        },
        "id": "615KvMKN8BFL",
        "outputId": "e867848b-38eb-42a0-a0d7-1d50ba5e0970"
      },
      "execution_count": 38,
      "outputs": [
        {
          "output_type": "stream",
          "name": "stdout",
          "text": [
            "<class 'pandas.core.frame.DataFrame'>\n",
            "RangeIndex: 115 entries, 0 to 114\n",
            "Data columns (total 36 columns):\n",
            " #   Column                                    Non-Null Count  Dtype  \n",
            "---  ------                                    --------------  -----  \n",
            " 0   _record_id                                115 non-null    object \n",
            " 1   _title                                    115 non-null    object \n",
            " 2   _server_updated_at                        115 non-null    object \n",
            " 3   _updated_by                               115 non-null    object \n",
            " 4   _geometry                                 115 non-null    object \n",
            " 5   _latitude                                 115 non-null    float64\n",
            " 6   _longitude                                115 non-null    float64\n",
            " 7   282_payment_method_that_purchase          115 non-null    object \n",
            " 8   283_fulfill_needs                         115 non-null    object \n",
            " 9   300_did_not_find                          115 non-null    object \n",
            " 10  237_distance_household_interviewee        115 non-null    object \n",
            " 11  299_means_transportation_consumer         115 non-null    object \n",
            " 12  238_frequency_buying_store                115 non-null    int64  \n",
            " 13  284_additional_products_store             115 non-null    object \n",
            " 14  301_electricity_bill                      115 non-null    object \n",
            " 15  305_electricity_bill_store                115 non-null    object \n",
            " 16  302_water_bill                            115 non-null    object \n",
            " 17  306_water_bill_store                      115 non-null    object \n",
            " 18  303_gas_bill                              115 non-null    object \n",
            " 19  307_gas_bill_store                        115 non-null    object \n",
            " 20  286_topups                                115 non-null    object \n",
            " 21  308_topups_in_store                       115 non-null    object \n",
            " 22  287_wire_transfers                        115 non-null    object \n",
            " 23  309_wiretransfers_in_store                115 non-null    object \n",
            " 24  320_other_services_in_store               115 non-null    object \n",
            " 25  304_additional_services_store             115 non-null    object \n",
            " 26  81_number_online_purchases_month          115 non-null    int64  \n",
            " 27  288_number_app_purchases_month            115 non-null    int64  \n",
            " 28  289_number_whatsapp_purchases_month       115 non-null    int64  \n",
            " 29  83_willingness_ultrafast_delivery         115 non-null    int64  \n",
            " 30  84_willingness_sameday_delivery           115 non-null    int64  \n",
            " 31  241_age_of_the_interviewee                115 non-null    int64  \n",
            " 32  240_gender_interviewee                    115 non-null    object \n",
            " 33  indicate_the_type_of_store                115 non-null    object \n",
            " 34  name_of_the_store                         115 non-null    object \n",
            " 35  storefront_picture_just_once_if_possible  115 non-null    object \n",
            "dtypes: float64(2), int64(7), object(27)\n",
            "memory usage: 32.5+ KB\n"
          ]
        }
      ]
    },
    {
      "cell_type": "code",
      "source": [
        "#sustitur con un string concreto\n",
        "df[\"284_additional_products_store\"]=df[\"284_additional_products_store\"].fillna(\"Nada\")"
      ],
      "metadata": {
        "id": "JqZW6LeS820L"
      },
      "execution_count": 19,
      "outputs": []
    },
    {
      "cell_type": "code",
      "source": [
        "#sustitur con un string concreto\n",
        "df[\"305_electricity_bill_store\"]=df[\"305_electricity_bill_store\"].fillna(\"Nada\")"
      ],
      "metadata": {
        "id": "QSO3842__Rgf"
      },
      "execution_count": 23,
      "outputs": []
    },
    {
      "cell_type": "code",
      "source": [
        "#sustitur con un string concreto\n",
        "df[\"306_water_bill_store\"]=df[\"306_water_bill_store\"].fillna(\"Nada\")"
      ],
      "metadata": {
        "id": "kNwB12BdAFEF"
      },
      "execution_count": 25,
      "outputs": []
    },
    {
      "cell_type": "code",
      "source": [
        "#sustitur con un string concreto\n",
        "df[\"307_gas_bill_store\"]=df[\"307_gas_bill_store\"].fillna(\"Nada\")"
      ],
      "metadata": {
        "id": "g_9ZzqJVANrs"
      },
      "execution_count": 27,
      "outputs": []
    },
    {
      "cell_type": "code",
      "source": [
        "#sustitur con un string concreto\n",
        "df[\"308_topups_in_store\"]=df[\"308_topups_in_store\"].fillna(\"Nada\")"
      ],
      "metadata": {
        "id": "x5FXBWoaAx_X"
      },
      "execution_count": 29,
      "outputs": []
    },
    {
      "cell_type": "code",
      "source": [
        "#sustitur con un string concreto\n",
        "df[\"309_wiretransfers_in_store\"]=df[\"309_wiretransfers_in_store\"].fillna(\"Nada\")"
      ],
      "metadata": {
        "id": "8MVcB2bCBW1n"
      },
      "execution_count": 32,
      "outputs": []
    },
    {
      "cell_type": "code",
      "source": [
        "#sustitur con un string concreto\n",
        "df[\"304_additional_services_store\"]=df[\"304_additional_services_store\"].fillna(\"Nada\")"
      ],
      "metadata": {
        "id": "-GHZ7AgRBfP4"
      },
      "execution_count": 33,
      "outputs": []
    },
    {
      "cell_type": "code",
      "source": [
        "#sustitur con un string concreto\n",
        "df[\"storefront_picture_just_once_if_possible\"]=df[\"storefront_picture_just_once_if_possible\"].fillna(\"Nada\")"
      ],
      "metadata": {
        "id": "UPZh-pjHB1dg"
      },
      "execution_count": 35,
      "outputs": []
    },
    {
      "cell_type": "code",
      "source": [
        "#Identificar valores nulos\n",
        "valores_nulos=df.isnull().sum().sum()\n",
        "valores_nulos"
      ],
      "metadata": {
        "colab": {
          "base_uri": "https://localhost:8080/"
        },
        "id": "isrXSdSu9OSe",
        "outputId": "ca1cd156-e5be-46b6-fa4f-444bdfa3fba0"
      },
      "execution_count": 37,
      "outputs": [
        {
          "output_type": "execute_result",
          "data": {
            "text/plain": [
              "0"
            ]
          },
          "metadata": {},
          "execution_count": 37
        }
      ]
    },
    {
      "cell_type": "code",
      "source": [
        "#filtro por columnas\n",
        "filtro3a=df.iloc[:,[12,26,27,28,29,30,31]]\n",
        "filtro3a"
      ],
      "metadata": {
        "id": "QVF0ATJuDrKl"
      },
      "execution_count": null,
      "outputs": []
    },
    {
      "cell_type": "code",
      "source": [
        "#Diagrama de box & whiskers\n",
        "fig=plt.figure(figsize=(10,6))\n",
        "plt.boxplot(filtro3a, vert=False)\n",
        "plt.title(\"Outliers de Precio Venta\")\n",
        "plt.show()"
      ],
      "metadata": {
        "id": "PTlGdEoEF9p9"
      },
      "execution_count": null,
      "outputs": []
    },
    {
      "cell_type": "code",
      "source": [
        "#Metodo de desviación estandar\n",
        "y=filtro3a\n",
        "Limite_Superior=y.mean()+3*y.std()\n",
        "Limite_Inferior=y.mean()-3*y.std()\n",
        "print(\"Limite superior permitido\", Limite_Superior)\n",
        "print(\"Limite inferior permitido\", Limite_Inferior)"
      ],
      "metadata": {
        "id": "nDyR_-SNG0wv"
      },
      "execution_count": null,
      "outputs": []
    },
    {
      "cell_type": "code",
      "source": [
        "#Encontrar outliers\n",
        "outliers=filtro3a[(y>Limite_Superior)|(y<Limite_Inferior)]\n",
        "outliers"
      ],
      "metadata": {
        "id": "3zkq1XMxG_bQ"
      },
      "execution_count": null,
      "outputs": []
    },
    {
      "cell_type": "code",
      "source": [
        "#Obtenemos datos limpios\n",
        "df_clean=filtro3a[(y<=Limite_Superior)&(y>=Limite_Inferior)]\n",
        "df_clean"
      ],
      "metadata": {
        "id": "SkLhGZW6HM8N"
      },
      "execution_count": null,
      "outputs": []
    },
    {
      "cell_type": "code",
      "source": [
        "#Diagrama de box & whiskers\n",
        "fig=plt.figure(figsize=(10,6))\n",
        "plt.boxplot(df_clean)\n",
        "plt.title(\"Outliers de Precio Venta\")\n",
        "plt.show()"
      ],
      "metadata": {
        "id": "OzdhfusAHUTL"
      },
      "execution_count": null,
      "outputs": []
    },
    {
      "cell_type": "code",
      "source": [
        "#Identificar valores nulos\n",
        "valores_nulos=df_clean.isnull().sum()\n",
        "valores_nulos"
      ],
      "metadata": {
        "colab": {
          "base_uri": "https://localhost:8080/"
        },
        "id": "khg74ZlHJXYh",
        "outputId": "d38397e9-e2d8-4715-8014-e8ceb22149d3"
      },
      "execution_count": 74,
      "outputs": [
        {
          "output_type": "execute_result",
          "data": {
            "text/plain": [
              "238_frequency_buying_store             2\n",
              "81_number_online_purchases_month       2\n",
              "288_number_app_purchases_month         1\n",
              "289_number_whatsapp_purchases_month    1\n",
              "83_willingness_ultrafast_delivery      2\n",
              "84_willingness_sameday_delivery        2\n",
              "241_age_of_the_interviewee             1\n",
              "dtype: int64"
            ]
          },
          "metadata": {},
          "execution_count": 74
        }
      ]
    },
    {
      "cell_type": "code",
      "source": [
        "#Sexto Metodo\n",
        "#sustiruir hacia atrás backwardfill\n",
        "datac=df_clean.fillna(method=\"ffill\")"
      ],
      "metadata": {
        "id": "RVzJb4_FSGCD"
      },
      "execution_count": 80,
      "outputs": []
    },
    {
      "cell_type": "code",
      "source": [
        "#Identificar valores nulos\n",
        "valores_nulos=datac.isnull().sum().sum()\n",
        "valores_nulos"
      ],
      "metadata": {
        "id": "RVk0qYoGSmWF"
      },
      "execution_count": null,
      "outputs": []
    },
    {
      "cell_type": "code",
      "source": [
        "df.info()"
      ],
      "metadata": {
        "id": "pk8tiNTITDtm"
      },
      "execution_count": null,
      "outputs": []
    },
    {
      "cell_type": "code",
      "source": [
        "#filtro por columnas\n",
        "filtro3b=df.iloc[:,[0,1,2,3,4,5,6,7,8,9,10,11,13,14,15,16,17,18,19,20,21,22,23,24,25,32,33,34,35]]\n",
        "filtro3b"
      ],
      "metadata": {
        "id": "so0hm65kS3YW"
      },
      "execution_count": null,
      "outputs": []
    },
    {
      "cell_type": "code",
      "source": [
        "#unimos los dataframes\n",
        "Datos_limpios = pd.concat([filtro3a, filtro3b], axis=1)\n",
        "Datos_limpios"
      ],
      "metadata": {
        "id": "XCSGfnOWTY30"
      },
      "execution_count": null,
      "outputs": []
    },
    {
      "cell_type": "code",
      "source": [
        "Datos_limpios.info()"
      ],
      "metadata": {
        "id": "IpKf34XvUAtz"
      },
      "execution_count": null,
      "outputs": []
    },
    {
      "cell_type": "code",
      "source": [
        "#Identificar valores nulos\n",
        "valores_nulos=Datos_limpios.isnull().sum()\n",
        "valores_nulos"
      ],
      "metadata": {
        "id": "F2fFcGLOUYe9"
      },
      "execution_count": null,
      "outputs": []
    },
    {
      "cell_type": "code",
      "source": [
        "#Convertir archivo filtrado a csv\n",
        "Datos_limpios.to_csv(\"Datos_limpios.csv\")\n",
        "#descargar archivo creado\n",
        "from google.colab import files\n",
        "files.download(\"Datos_limpios.csv\")"
      ],
      "metadata": {
        "colab": {
          "base_uri": "https://localhost:8080/",
          "height": 17
        },
        "id": "zEoWfqBeXI0D",
        "outputId": "2fce4bd7-ca63-409c-f1f2-d16d693ca43f"
      },
      "execution_count": 100,
      "outputs": [
        {
          "output_type": "display_data",
          "data": {
            "text/plain": [
              "<IPython.core.display.Javascript object>"
            ],
            "application/javascript": [
              "\n",
              "    async function download(id, filename, size) {\n",
              "      if (!google.colab.kernel.accessAllowed) {\n",
              "        return;\n",
              "      }\n",
              "      const div = document.createElement('div');\n",
              "      const label = document.createElement('label');\n",
              "      label.textContent = `Downloading \"${filename}\": `;\n",
              "      div.appendChild(label);\n",
              "      const progress = document.createElement('progress');\n",
              "      progress.max = size;\n",
              "      div.appendChild(progress);\n",
              "      document.body.appendChild(div);\n",
              "\n",
              "      const buffers = [];\n",
              "      let downloaded = 0;\n",
              "\n",
              "      const channel = await google.colab.kernel.comms.open(id);\n",
              "      // Send a message to notify the kernel that we're ready.\n",
              "      channel.send({})\n",
              "\n",
              "      for await (const message of channel.messages) {\n",
              "        // Send a message to notify the kernel that we're ready.\n",
              "        channel.send({})\n",
              "        if (message.buffers) {\n",
              "          for (const buffer of message.buffers) {\n",
              "            buffers.push(buffer);\n",
              "            downloaded += buffer.byteLength;\n",
              "            progress.value = downloaded;\n",
              "          }\n",
              "        }\n",
              "      }\n",
              "      const blob = new Blob(buffers, {type: 'application/binary'});\n",
              "      const a = document.createElement('a');\n",
              "      a.href = window.URL.createObjectURL(blob);\n",
              "      a.download = filename;\n",
              "      div.appendChild(a);\n",
              "      a.click();\n",
              "      div.remove();\n",
              "    }\n",
              "  "
            ]
          },
          "metadata": {}
        },
        {
          "output_type": "display_data",
          "data": {
            "text/plain": [
              "<IPython.core.display.Javascript object>"
            ],
            "application/javascript": [
              "download(\"download_0a6c1024-cf41-45f3-bc08-22d5ace3003f\", \"Datos_limpios.csv\", 51852)"
            ]
          },
          "metadata": {}
        }
      ]
    }
  ]
}